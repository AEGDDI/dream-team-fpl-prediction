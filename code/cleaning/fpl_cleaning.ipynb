{
 "cells": [
  {
   "cell_type": "code",
   "execution_count": 1,
   "metadata": {},
   "outputs": [
    {
     "name": "stderr",
     "output_type": "stream",
     "text": [
      "C:\\ProgramData\\Anaconda3\\lib\\site-packages\\ipykernel_launcher.py:39: FutureWarning: Sorting because non-concatenation axis is not aligned. A future version\n",
      "of pandas will change to not sort by default.\n",
      "\n",
      "To accept the future behavior, pass 'sort=False'.\n",
      "\n",
      "To retain the current behavior and silence the warning, pass 'sort=True'.\n",
      "\n"
     ]
    },
    {
     "name": "stdout",
     "output_type": "stream",
     "text": [
      "Merged dataset saved as 'fpl_data.csv'.\n"
     ]
    }
   ],
   "source": [
    "import pandas as pd\n",
    "import os\n",
    "\n",
    "# Input folder containing the CSV files for each season\n",
    "#input_folder = r\"C:\\Users\\ALESSANDRO\\Documents\\GitHub\\dream-team-fpl-prediction\\data\\fpl\"\n",
    "input_folder = r\"C:\\Users\\aldi\\Documents\\GitHub\\dream-team-fpl-prediction\\data\\fpl\"\n",
    "\n",
    "\n",
    "# Output folder to save the merged dataset\n",
    "#output_folder = r\"C:\\Users\\ALESSANDRO\\Documents\\GitHub\\dream-team-fpl-prediction\\data\"\n",
    "output_folder = r\"C:\\Users\\aldi\\Documents\\GitHub\\dream-team-fpl-prediction\\data\"\n",
    "\n",
    "\n",
    "# List all CSV files in the input folder\n",
    "csv_files = [file for file in os.listdir(input_folder) if file.endswith(\".csv\")]\n",
    "\n",
    "# Initialize an empty list to store the dataframes for each season\n",
    "season_dfs = []\n",
    "\n",
    "# Loop through each CSV file\n",
    "for csv_file in csv_files:\n",
    "    # Read the CSV file into a dataframe\n",
    "    season = csv_file.split(\"_\")[-1].split(\".\")[0]  # Extract the season from the filename\n",
    "    csv_path = os.path.join(input_folder, csv_file)\n",
    "    df = pd.read_csv(csv_path, encoding='latin1')  # Specify the encoding parameter\n",
    "    \n",
    "    # Substitute the value of season\n",
    "    season_start = season[:2]\n",
    "    season_end = season[2:]\n",
    "    season = f\"20{season_start}-20{season_end}\"\n",
    "    \n",
    "    # Add a new column for the season\n",
    "    df[\"Season\"] = season\n",
    "    \n",
    "    # Append the dataframe to the list\n",
    "    season_dfs.append(df)\n",
    "\n",
    "# Concatenate all dataframes into a single dataframe\n",
    "merged_df = pd.concat(season_dfs)\n",
    "\n",
    "# Create the \"Player\" variable by merging the \"first_name\" and \"second_name\"\n",
    "merged_df[\"Player\"] = merged_df[\"first_name\"] + \" \" + merged_df[\"second_name\"]\n",
    "\n",
    "# Delete the \"first_name\", \"second_name\", \"now_cost\", and \"element_type\" columns\n",
    "columns_to_delete = [\"first_name\", \"second_name\", \"now_cost\", \"element_type\"]\n",
    "merged_df.drop(columns=columns_to_delete, inplace=True)\n",
    "\n",
    "# Reorder columns to have \"Player\" and \"Season\" as the leftmost columns\n",
    "merged_df = merged_df[[\"Player\", \"Season\"] + [col for col in merged_df.columns if col not in [\"Player\", \"Season\"]]]\n",
    "\n",
    "# Save the merged dataframe to a CSV file\n",
    "output_path = os.path.join(output_folder, \"fpl_data.xlsx\")\n",
    "merged_df.to_excel(output_path, index=False)\n",
    "\n",
    "print(f\"Merged dataset saved as 'fpl_data.csv'.\")\n"
   ]
  }
 ],
 "metadata": {
  "kernelspec": {
   "display_name": "Python 3",
   "language": "python",
   "name": "python3"
  },
  "language_info": {
   "codemirror_mode": {
    "name": "ipython",
    "version": 3
   },
   "file_extension": ".py",
   "mimetype": "text/x-python",
   "name": "python",
   "nbconvert_exporter": "python",
   "pygments_lexer": "ipython3",
   "version": "3.7.3"
  }
 },
 "nbformat": 4,
 "nbformat_minor": 5
}
