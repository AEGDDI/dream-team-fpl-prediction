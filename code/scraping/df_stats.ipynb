{
 "cells": [
  {
   "cell_type": "markdown",
   "metadata": {},
   "source": [
    "# libraries"
   ]
  },
  {
   "cell_type": "code",
   "execution_count": 1,
   "metadata": {},
   "outputs": [],
   "source": [
    "import pandas as pd\n",
    "import os\n",
    "from time import sleep\n",
    "from selenium import webdriver\n",
    "from selenium.webdriver.chrome.service import Service\n",
    "from selenium.webdriver.chrome.options import Options\n",
    "from bs4 import BeautifulSoup\n",
    "from getpass import getuser"
   ]
  },
  {
   "cell_type": "markdown",
   "metadata": {},
   "source": [
    "# scraping functions"
   ]
  },
  {
   "cell_type": "code",
   "execution_count": 2,
   "metadata": {},
   "outputs": [
    {
     "name": "stdout",
     "output_type": "stream",
     "text": [
      "Data for season 2016-2017 successfully extracted.\n",
      "Data for season 2017-2018 successfully extracted.\n",
      "Data for season 2018-2019 successfully extracted.\n",
      "Data for season 2019-2020 successfully extracted.\n",
      "Data for season 2020-2021 successfully extracted.\n",
      "Data for season 2021-2022 successfully extracted.\n",
      "Data for season 2022-2023 successfully extracted.\n",
      "Data for season 2023-2024 successfully extracted.\n"
     ]
    }
   ],
   "source": [
    "\n",
    "\n",
    "# Set up Selenium options\n",
    "options = Options()\n",
    "options.add_argument(\"--headless\")  # Run Chrome in headless mode\n",
    "\n",
    "# Set up Chrome driver\n",
    "user = getuser()\n",
    "webdriver_service = Service(r'C:\\Users\\{}\\Downloads\\chromedriver.exe'.format(user))\n",
    "driver = webdriver.Chrome(service=webdriver_service, options=options)\n",
    "\n",
    "# Define the range of seasons\n",
    "start_season = 2016\n",
    "end_season = 2023\n",
    "\n",
    "# Create empty DataFrames for each table\n",
    "team_defense_stats = pd.DataFrame()\n",
    "player_defense_stats = pd.DataFrame()\n",
    "\n",
    "# Loop through each season\n",
    "for season in range(start_season, end_season + 1):\n",
    "    # Format the URL for the current season\n",
    "    next_season = season + 1\n",
    "    url = f\"https://fbref.com/en/comps/9/{season}-{next_season}/defense/{season}-{next_season}-Premier-League-Stats\"\n",
    "\n",
    "    # Load the webpage\n",
    "    driver.get(url)\n",
    "    sleep(3)  # Allow time for the page to load dynamically\n",
    "\n",
    "    # Get the page source and create a BeautifulSoup object\n",
    "    page_source = driver.page_source\n",
    "    soup = BeautifulSoup(page_source, \"html.parser\")\n",
    "\n",
    "    # Function to extract data from a table\n",
    "    def extract_table_data(table_id, season, exclude_columns=None):\n",
    "        table = soup.find(\"table\", id=table_id)\n",
    "\n",
    "        if table is None:\n",
    "            print(f\"Table '{table_id}' not found on the webpage for season {season}-{season+1}.\")\n",
    "            return pd.DataFrame()\n",
    "\n",
    "        # Remove the tr element with class \"thead\"\n",
    "        thead_row = table.find(\"tr\", class_=\"thead\")\n",
    "        if thead_row:\n",
    "            thead_row.decompose()\n",
    "\n",
    "        # Extract column names\n",
    "        header_row = table.find(\"thead\").find_all(\"tr\")[1]  # Second row of the header\n",
    "        columns = [\"Squad\"]  # Add Squad column as the first column\n",
    "\n",
    "        # Retrieve the remaining column names\n",
    "        for header in header_row.find_all(\"th\")[1:]:  # Exclude the first \"Rk\" column\n",
    "            column_name = header.text.strip()\n",
    "\n",
    "            # Check for duplicate column names and modify them to make them unique\n",
    "            if column_name in columns:\n",
    "                column_name = f\"{column_name}_{columns.count(column_name) + 1}\"\n",
    "\n",
    "            columns.append(column_name)\n",
    "\n",
    "        # Extract player data\n",
    "        data_rows = table.find(\"tbody\").find_all(\"tr\")\n",
    "        player_data = []\n",
    "        for row in data_rows:\n",
    "            # Extract the Squad (team name) from the <th> tag if it exists\n",
    "            squad_cell = row.find(\"th\")\n",
    "            squad_name = squad_cell.text.strip() if squad_cell else \"Unknown Squad\"\n",
    "\n",
    "            # Extract the rest of the data from the <td> tags\n",
    "            cells = row.find_all(\"td\")\n",
    "            player = [squad_name]  # Start the player list with the squad name\n",
    "\n",
    "            for cell in cells:\n",
    "                player.append(cell.text.strip())\n",
    "\n",
    "            player_data.append(player)\n",
    "\n",
    "        # Convert player data to DataFrame\n",
    "        season_df = pd.DataFrame(player_data, columns=columns)\n",
    "\n",
    "        # Add season column to DataFrame\n",
    "        season_df.insert(0, \"Season\", f\"{season}-{next_season}\")\n",
    "\n",
    "        # Exclude specified columns from DataFrame\n",
    "        if exclude_columns:\n",
    "            season_df = season_df.drop(columns=exclude_columns)\n",
    "\n",
    "        return season_df\n",
    "\n",
    "    # Extract data for team and player defense stats\n",
    "    team_defense_df = extract_table_data(\"stats_squads_defense_for\", season)\n",
    "    player_defense_df = extract_table_data(\"stats_defense\", season, exclude_columns=[\"Matches\"])\n",
    "\n",
    "    # Append the current season's player data to the overall DataFrames\n",
    "    team_defense_stats = pd.concat([team_defense_stats, team_defense_df], ignore_index=True)\n",
    "    player_defense_stats = pd.concat([player_defense_stats, player_defense_df], ignore_index=True)\n",
    "\n",
    "    print(f\"Data for season {season}-{next_season} successfully extracted.\")\n",
    "\n",
    "# Append '_player' suffix to all remaining column names except for specific columns\n",
    "player_defense_stats.columns = [f\"{col}_player\" if col not in [\"season\", \"squad\", \"nation\", \"born\", \"player\"] else col for col in player_defense_stats.columns]\n",
    "\n",
    "# Convert all column names to lowercase for both DataFrames\n",
    "team_defense_stats.columns = [col.lower() for col in team_defense_stats.columns]\n",
    "player_defense_stats.columns = [col.lower() for col in player_defense_stats.columns]\n",
    "\n",
    "# Close the browser\n",
    "driver.quit()\n",
    "\n",
    "\n",
    "\n"
   ]
  },
  {
   "cell_type": "markdown",
   "metadata": {},
   "source": [
    "# clean datasets"
   ]
  },
  {
   "cell_type": "code",
   "execution_count": 3,
   "metadata": {},
   "outputs": [],
   "source": [
    "# Remove empty rows\n",
    "team_defense_stats.dropna(how='all', inplace=True)\n",
    "player_defense_stats.dropna(how='all', inplace=True)"
   ]
  },
  {
   "cell_type": "code",
   "execution_count": 4,
   "metadata": {},
   "outputs": [],
   "source": [
    "# Rename specific columns in the team_defense_stats DataFrame\n",
    "team_defense_stats = team_defense_stats.rename(columns={\n",
    "    'def 3rd': 'tkl_def',\n",
    "    'mid 3rd': 'tkl_mid',\n",
    "    'att 3rd': 'tkl_att',\n",
    "    'tkl_2': 'challenges_won',\n",
    "    'att': 'challenges_att',\n",
    "    'tkl%': 'tkl_pct',\n",
    "    'lost': 'challenges_lost',\n",
    "    'sh': 'shots_blocked',\n",
    "    'pass': 'passes_blocked',\n",
    "    'int': 'interceptions',\n",
    "    'tkl+int': 'tackles_interceptions',\n",
    "    'clr': 'clearances',\n",
    "    'err': 'errors',\n",
    "    '# pl': 'np'\n",
    "})"
   ]
  },
  {
   "cell_type": "code",
   "execution_count": 5,
   "metadata": {},
   "outputs": [],
   "source": [
    "# Remove specified columns\n",
    "player_defense_stats = player_defense_stats.drop(columns=[\"squad_player\"], errors='ignore')"
   ]
  },
  {
   "cell_type": "code",
   "execution_count": 6,
   "metadata": {},
   "outputs": [],
   "source": [
    "# Rename specific columns in the team_defense_stats DataFrame\n",
    "player_defense_stats = player_defense_stats.rename(columns={\n",
    "    'squad_2_player': 'squad_player',\n",
    "    'player_player': 'player',\n",
    "    'def 3rd_player': 'tkl_def_player',\n",
    "    'mid 3rd_player': 'tkl_mid_player',\n",
    "    'att 3rd_player': 'tkl_att_player',\n",
    "    'tkl_2_player': 'challenges_won_player',\n",
    "    'att_player': 'challenges_att_player',\n",
    "    'tkl%_player': 'tkl_pct_player',\n",
    "    'lost_player': 'challenges_lost_player',\n",
    "    'sh_player': 'shots_blocked_player',\n",
    "    'pass_player': 'passes_blocked_player',\n",
    "    'int_player': 'interceptions_player',\n",
    "    'tkl+int_player': 'tackles_interceptions_player',\n",
    "    'clr_player': 'clearances_player',\n",
    "    'err_player': 'errors_player'\n",
    "})"
   ]
  },
  {
   "cell_type": "code",
   "execution_count": 7,
   "metadata": {},
   "outputs": [],
   "source": [
    "# Split 'pos_player' column into two new columns 'pos_player_1' and 'pos_player_2'\n",
    "player_defense_stats[['pos_player_1', 'pos_player_2']] = player_defense_stats['pos_player'].str.split(',', expand=True)\n",
    "\n",
    "# Drop the original 'pos_player' column since we now have split it into two\n",
    "player_defense_stats = player_defense_stats.drop(columns=['pos_player'])"
   ]
  },
  {
   "cell_type": "code",
   "execution_count": 8,
   "metadata": {},
   "outputs": [],
   "source": [
    "# Clean the nation_player column in the player_defense_stats DataFrame using .loc to avoid SettingWithCopyWarning\n",
    "if 'nation_player' in player_defense_stats.columns:\n",
    "    player_defense_stats.loc[:, 'nation_player'] = player_defense_stats['nation_player'].apply(lambda x: x.split()[-1] if isinstance(x, str) else None)\n",
    "\n",
    "# Remove rows where only 'season_player' has a value and all other columns are NaN\n",
    "if 'season_player' in player_defense_stats.columns:\n",
    "    player_defense_stats = player_defense_stats.dropna(how='all', subset=[col for col in player_defense_stats.columns if col != 'season_player'])\n"
   ]
  },
  {
   "cell_type": "markdown",
   "metadata": {},
   "source": [
    "# export data"
   ]
  },
  {
   "cell_type": "code",
   "execution_count": 10,
   "metadata": {},
   "outputs": [
    {
     "name": "stdout",
     "output_type": "stream",
     "text": [
      "Team defense data saved to C:\\Users\\ALESSANDRO\\Documents\\GitHub\\dream-team-fpl-prediction\\data\\def\\team_defense_stats.xlsx\n",
      "Player defense data saved to C:\\Users\\ALESSANDRO\\Documents\\GitHub\\dream-team-fpl-prediction\\data\\def\\player_defense_stats.xlsx\n"
     ]
    }
   ],
   "source": [
    "# Save data to Excel files\n",
    "output_folder = r'C:\\Users\\{}\\Documents\\GitHub\\dream-team-fpl-prediction\\data\\def'.format(user)\n",
    "team_defense_output_path = os.path.join(output_folder, 'team_defense_stats.xlsx')\n",
    "player_defense_output_path = os.path.join(output_folder, 'player_defense_stats.xlsx')\n",
    "\n",
    "team_defense_stats.to_excel(team_defense_output_path, index=False)\n",
    "player_defense_stats.to_excel(player_defense_output_path, index=False)\n",
    "\n",
    "print(f\"Team defense data saved to {team_defense_output_path}\")\n",
    "print(f\"Player defense data saved to {player_defense_output_path}\")\n"
   ]
  }
 ],
 "metadata": {
  "kernelspec": {
   "display_name": "Python 3",
   "language": "python",
   "name": "python3"
  },
  "language_info": {
   "codemirror_mode": {
    "name": "ipython",
    "version": 3
   },
   "file_extension": ".py",
   "mimetype": "text/x-python",
   "name": "python",
   "nbconvert_exporter": "python",
   "pygments_lexer": "ipython3",
   "version": "3.8.7"
  }
 },
 "nbformat": 4,
 "nbformat_minor": 2
}
