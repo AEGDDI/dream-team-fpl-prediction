{
 "cells": [
  {
   "cell_type": "code",
   "execution_count": null,
   "metadata": {
    "lines_to_next_cell": 0
   },
   "outputs": [],
   "source": []
  },
  {
   "cell_type": "code",
   "execution_count": 1,
   "metadata": {},
   "outputs": [],
   "source": [
    "import os\n",
    "import pandas as pd\n",
    "from unidecode import unidecode\n",
    "from fuzzywuzzy import fuzz\n",
    "from fuzzywuzzy import process"
   ]
  },
  {
   "cell_type": "code",
   "execution_count": 2,
   "metadata": {},
   "outputs": [],
   "source": [
    "\n",
    "\n",
    "# Load the players_agg.xlsx file\n",
    "players_agg_path = r'C:\\Users\\aldi\\Documents\\GitHub\\dream-team-fpl-prediction\\data\\players_agg.xlsx'\n",
    "#players_agg_path = r'C:\\Users\\ALESSANDRO\\Documents\\GitHub\\dream-team-fpl-prediction\\data\\players_agg.xlsx'\n",
    "players_agg_df = pd.read_excel(players_agg_path)\n",
    "\n",
    "# Load the fpl_data.csv file\n",
    "fpl_data_path = r'C:\\Users\\aldi\\Documents\\GitHub\\dream-team-fpl-prediction\\data\\fpl_data.xlsx'\n",
    "#fpl_data_path = r'C:\\Users\\ALESSANDRO\\Documents\\GitHub\\dream-team-fpl-prediction\\data\\fpl_data.csv'\n",
    "fpl_data_df = pd.read_excel(fpl_data_path)\n",
    "\n",
    "# Clean the 'Player' column in players_agg_df\n",
    "players_agg_df['Player'] = players_agg_df['Player'].apply(unidecode)\n",
    "\n",
    "# Clean the 'Player' column in fpl_data_df\n",
    "fpl_data_df['Player'] = fpl_data_df['Player'].apply(unidecode)\n",
    "\n",
    "# Filter the players_agg_df for season 2016-2017 onwards\n",
    "players_agg_df = players_agg_df[players_agg_df['Season'] >= '2016-2017']\n",
    "\n",
    "# Extract surname and first_name from 'Player' column in both datasets\n",
    "players_agg_df['surname'] = players_agg_df['Player'].apply(lambda name: name.split()[-1])\n",
    "players_agg_df['first_name'] = players_agg_df['Player'].apply(lambda name: ' '.join(name.split()[:-1]))\n",
    "fpl_data_df['surname'] = fpl_data_df['Player'].apply(lambda name: name.split()[-1])\n",
    "fpl_data_df['first_name'] = fpl_data_df['Player'].apply(lambda name: ' '.join(name.split()[:-1]))\n",
    "\n",
    "# Perform an outer join on 'Player' and 'Season' variables\n",
    "merged_df = pd.merge(players_agg_df, fpl_data_df, on=['Player', 'Season'], how='outer')\n"
   ]
  },
  {
   "cell_type": "code",
   "execution_count": 3,
   "metadata": {},
   "outputs": [],
   "source": [
    "# Filter the merged_df for the season 2016-2017\n",
    "filtered_df = merged_df[merged_df['Season'] >= '2016-2017'].copy()"
   ]
  },
  {
   "cell_type": "code",
   "execution_count": 4,
   "metadata": {},
   "outputs": [],
   "source": [
    "# Clean some dirty characters\n",
    "filtered_df['Player'] = filtered_df['Player'].str.replace('A\\(c\\)','e')\n",
    "filtered_df['Player'] = filtered_df['Player'].str.replace('A\\(r\\)','i')\n",
    "filtered_df['Player'] = filtered_df['Player'].str.replace('A 1/4 ','u')\n",
    "filtered_df['Player'] = filtered_df['Player'].str.replace('A-','i')\n",
    "filtered_df['Player'] = filtered_df['Player'].str.replace('A\\+-','n')\n",
    "filtered_df['Player'] = filtered_df['Player'].str.replace('A,','o')\n",
    "filtered_df['Player'] = filtered_df['Player'].str.replace('A!','a')"
   ]
  },
  {
   "cell_type": "code",
   "execution_count": 5,
   "metadata": {},
   "outputs": [],
   "source": [
    "# All unique player names\n",
    "names = list(filtered_df['Player'].unique())"
   ]
  },
  {
   "cell_type": "code",
   "execution_count": null,
   "metadata": {
    "lines_to_next_cell": 2
   },
   "outputs": [],
   "source": [
    "# Build a dictionary with all names matched by the algorithm for each name in the list\n",
    "THRESHOLD = 0.7\n",
    "matches = dict()\n",
    "for name in names:\n",
    "    results = process.extractBests(name, names, scorer=fuzz.token_set_ratio,\n",
    "                                   score_cutoff=THRESHOLD)\n",
    "    matches[name] = []\n",
    "    for result in results:\n",
    "        if result[0] == name:\n",
    "            continue\n",
    "        if result[1] > 80:\n",
    "            matches[name].append(result)"
   ]
  },
  {
   "cell_type": "code",
   "execution_count": null,
   "metadata": {},
   "outputs": [],
   "source": [
    "# Empty dict that will store for each name:\n",
    "# - The name to which it maps to (e.g. 'Aleix Garcia Serrano' maps to 'Aleix Garcia')\n",
    "# - The name(s) that maps to it (e.g. 'Aleix Garcia' is mapped by 'Aleix Garcia')\n",
    "# - The name(s) that are a false match (e.g. 'Alexis Sanchez' is ignored by 'Aleix Garcia')\n",
    "matches_final = dict()"
   ]
  },
  {
   "cell_type": "code",
   "execution_count": null,
   "metadata": {},
   "outputs": [],
   "source": [
    "# For every unique name build an empty dict that will store the data\n",
    "for name in matches.keys():\n",
    "    \n",
    "    # If the algorithm didn't find any possible match is skipped\n",
    "    if len(matches[name]) == 0:\n",
    "        continue\n",
    "    \n",
    "    # Empty dict for the name\n",
    "    matches_final[name] = {\n",
    "        'Mapped_by': set(),  # If exists, a set of name(s) that refer to this name\n",
    "        'Maps_to': '',       # If exists, a name to which this one should refer t\n",
    "        'Ignores': set()     # If exists, a set of bad matches that should be ignored\n",
    "        }"
   ]
  },
  {
   "cell_type": "code",
   "execution_count": null,
   "metadata": {},
   "outputs": [],
   "source": [
    "# For every name that had at least a match by the algorithm...\n",
    "for name in matches_final.keys(): \n",
    "    \n",
    "    # -------------------- MULTI-NAME CHECK SECTION --------------------\n",
    "    # This part of the code checks wheter all the names that have a possible relationship refer\n",
    "    # to the same player or not\n",
    "    \n",
    "    # Starting from a name (name) gathers all the name that could be related and stores them in the\n",
    "    # names_checked list\n",
    "    names_to_check = [name]\n",
    "    names_checked = []\n",
    "    while len(names_to_check) > 0:\n",
    "        for el in matches[names_to_check[0]]:\n",
    "            if el[0] not in names_checked:\n",
    "                if el[0] not in names_to_check:\n",
    "                    names_to_check.append(el[0])\n",
    "        names_checked.append(names_to_check[0])\n",
    "        names_to_check.pop(0)\n",
    "    \n",
    "    # Asks wheter all those names refer to the same player; if so, it asks to point which name is\n",
    "    # the correct one and the data will be updated accordingly\n",
    "    print('\\nDo the following names all refer to the same player?')\n",
    "    for el in names_checked:\n",
    "        print(f' {names_checked.index(el)+1}. {el}')\n",
    "    idx = input('If so, enter the number of the proper name, otherwise enter nothing: ')\n",
    "    \n",
    "    if idx.isdigit():\n",
    "        \n",
    "        idx = int(idx)-1\n",
    "        \n",
    "        if idx > (len(names_checked)-1) or idx < 0:\n",
    "            raise IndexError('The entered number is not one of the choices')\n",
    "        \n",
    "        for name_checked in names_checked:\n",
    "            \n",
    "            if name_checked == names_checked[idx]:\n",
    "                continue\n",
    "                \n",
    "            else:\n",
    "                matches_final[name_checked]['Maps_to'] = names_checked[idx]\n",
    "                matches_final[names_checked[idx]]['Mapped_by'].add(name_checked)\n",
    "                \n",
    "                for name_to_ignore in names_checked:\n",
    "                    if name_to_ignore != names_checked[idx] and name_to_ignore != name_checked:\n",
    "                        matches_final[name_checked]['Ignores'].add(name_to_ignore)\n",
    "        \n",
    "    elif len(idx) == 0:\n",
    "        \n",
    "        # If the names were just two and they do not refer to the same player, an ignore\n",
    "        # relationship is set between the two so they will not be analized in the name-to-name\n",
    "        # section\n",
    "        if len(names_checked) == 2:\n",
    "            matches_final[names_checked[0]]['Ignores'].add(names_checked[1])\n",
    "            matches_final[names_checked[1]]['Ignores'].add(names_checked[0])\n",
    "        continue\n",
    "    \n",
    "    else:\n",
    "        raise ValueError('The entered value is invalid')\n",
    "        \n",
    "    # -------------------- NAME-TO-NAME MATCH SECTION --------------------\n",
    "    # For names that still have unresolved matches, check them\n",
    "            \n",
    "    for el in matches[name]:\n",
    "        \n",
    "        # Skip the matched name if it has already a relationship with the key name ('name' variable)\n",
    "        if el[0] in matches_final[name]['Mapped_by'] or el[0] == matches_final[name]['Maps_to']\\\n",
    "            or el[0] in matches_final[name]['Ignores']:\n",
    "                continue\n",
    "        \n",
    "        # Asks if the two names matches\n",
    "        check = input(f'Is {el[0]} a good match for {name} ([y]/n)? ' )\n",
    "        \n",
    "        # If so, it asks to choos which of the two should be considered the proper one and update\n",
    "        # the data accordingly\n",
    "        if (len(check) == 0) or (check == 'y'):\n",
    "            check = input(f'-> {el[0]} or {name} should be the proper name (1/2)? ' )\n",
    "            \n",
    "            if check == '1':\n",
    "                matches_final[name]['Maps_to'] = el[0]\n",
    "                matches_final[el[0]]['Mapped_by'].add(name)\n",
    "                \n",
    "            elif check == '2':\n",
    "                matches_final[el[0]]['Maps_to'] = name\n",
    "                matches_final[name]['Mapped_by'].add(el[0])\n",
    "                \n",
    "            else:\n",
    "                raise ValueError(f'{check} is an invalid answer')\n",
    "                \n",
    "        # If they do not match an ignore relationship is set between the two\n",
    "        elif check == 'n':\n",
    "            matches_final[name]['Ignores'].add(el[0])\n",
    "            matches_final[el[0]]['Ignores'].add(name)\n",
    "        \n",
    "        else:\n",
    "            raise ValueError(f'{check} is an invalid answer')"
   ]
  }
 ],
 "metadata": {
  "jupytext": {
   "cell_metadata_filter": "-all",
   "main_language": "python",
   "notebook_metadata_filter": "-all"
  },
  "kernelspec": {
   "display_name": "Python 3",
   "language": "python",
   "name": "python3"
  },
  "language_info": {
   "codemirror_mode": {
    "name": "ipython",
    "version": 3
   },
   "file_extension": ".py",
   "mimetype": "text/x-python",
   "name": "python",
   "nbconvert_exporter": "python",
   "pygments_lexer": "ipython3",
   "version": "3.7.3"
  }
 },
 "nbformat": 4,
 "nbformat_minor": 2
}
